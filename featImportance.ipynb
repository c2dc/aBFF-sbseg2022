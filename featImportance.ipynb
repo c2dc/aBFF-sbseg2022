{
 "cells": [
  {
   "cell_type": "markdown",
   "id": "59dfb756-bd95-42f5-afc9-0a48b3b7ea10",
   "metadata": {},
   "source": [
    "# Feature Importance"
   ]
  },
  {
   "cell_type": "code",
   "execution_count": 1,
   "id": "c1f3af14-1fec-45da-86af-0753763be02f",
   "metadata": {},
   "outputs": [
    {
     "data": {
      "text/plain": [
       "'AB-TRAP_CIC'"
      ]
     },
     "execution_count": 1,
     "metadata": {},
     "output_type": "execute_result"
    }
   ],
   "source": [
    "from supportFiles.myFunc import loadModel, getDSName, setTarget, loadDataset, getFeatureList\n",
    "from joblib import dump, load\n",
    "import pandas as pd\n",
    "import numpy as np\n",
    "import os"
   ]
  },
  {
   "cell_type": "markdown",
   "id": "13dc1678-92fa-4693-a87b-7e122d32cb84",
   "metadata": {},
   "source": [
    "### define functions"
   ]
  },
  {
   "cell_type": "code",
   "execution_count": 5,
   "id": "e5ea11a4-6da5-4b35-96f7-3015dbe44ec0",
   "metadata": {},
   "outputs": [],
   "source": [
    "hocuspocus = lambda a,b: [[r*q for r,q in zip(p,b)] for p in a]\n",
    "\n",
    "# get the top \"qty\" features from \"relevantes\" with names in \"cols\"\n",
    "def getTopFeat(relevantes, cols, qty):\n",
    "    relevantes = relevantes/np.sum(relevantes)\n",
    "    relevantes = [100*round(num,3) for num in relevantes]\n",
    "    fi_df = pd.DataFrame({'feature_importance': relevantes, 'feature_name': cols})\n",
    "    fi_df.sort_values(by=['feature_importance'], ascending=False, inplace=True)\n",
    "    #return fi_df['feature_name'].iloc[0:qty].values\n",
    "    lero = fi_df['feature_name'].iloc[0:qty].values\n",
    "    bla = fi_df['feature_importance'].iloc[0:qty].values\n",
    "    out = []\n",
    "    for i in range(len(lero)):\n",
    "        #if bla[i] < 1:\n",
    "        #    out.extend([''])\n",
    "        #else:\n",
    "        #    out.extend([\"({1:.0f}%) {0}\".format(lero[i],bla[i])])\n",
    "        out.extend([\"({1:.0f}%) {0}\".format(lero[i],bla[i])])\n",
    "    return out\n",
    "    #data = pd.DataFrame(data, columns=[modelName])\n",
    "    #data[\"Data Set\"] = DS\n",
    "    #return data[[\"Data Set\", model]]\n",
    "\n",
    "# build a LaTeX table line for feature importance\n",
    "def getLine(datasetName, models, cols):\n",
    "    qty = 10\n",
    "    line = pd.DataFrame({})\n",
    "    relevantes = models['DT'].best_estimator_.feature_importances_\n",
    "    line['DT'] = getTopFeat(relevantes, cols, qty)\n",
    "    relevantes = list(map(abs, models[\"LR\"].best_estimator_.coef_))[0]\n",
    "    line['LR'] = getTopFeat(relevantes, cols, qty)\n",
    "    c = hocuspocus(models[\"MLP\"].best_estimator_.coefs_[0],models[\"MLP\"].best_estimator_.coefs_[1])\n",
    "    relevantes = []\n",
    "    for entry in c:\n",
    "        relevantes.append(sum(list(map(abs, entry))[0]) )\n",
    "    line['MLP'] = getTopFeat(relevantes, cols, qty)\n",
    "    relevantes = list(map(abs, models[\"SVM\"].best_estimator_.decision_function(np.identity(len(cols)))))\n",
    "    line['SVM'] = getTopFeat(relevantes, cols, qty)\n",
    "    relevantes = list(map(abs, models[\"XGB\"].best_estimator_.feature_importances_))\n",
    "    line['XGB'] = getTopFeat(relevantes, cols, qty)\n",
    "    line.at[0,'Data Set'] = \"\\multirow{\" + qty + \"}{*}{\\rotatebox{90}{\\\\parbox{100pt}{\\\\textbf{CIC-\" + datasetName.split(\"_\")[1] +\"}}}}\"\n",
    "    \n",
    "    return line"
   ]
  },
  {
   "cell_type": "markdown",
   "id": "b2fd8187-a589-4189-b357-5d9c62281696",
   "metadata": {},
   "source": [
    "### build information table"
   ]
  },
  {
   "cell_type": "code",
   "execution_count": 7,
   "id": "d9b09936-a6ae-4507-b2f4-12b15c90650b",
   "metadata": {
    "collapsed": true,
    "jupyter": {
     "outputs_hidden": true
    },
    "tags": []
   },
   "outputs": [
    {
     "name": "stdout",
     "output_type": "stream",
     "text": [
      "loading models from SCAN_AB-TRAP_CIC\n",
      "Models fetched: ['SCAN_AB-TRAP_CIC_DT.joblib', 'SCAN_AB-TRAP_CIC_LR.joblib', 'SCAN_AB-TRAP_CIC_MLP.joblib', 'SCAN_AB-TRAP_CIC_NB.joblib', 'SCAN_AB-TRAP_CIC_SVM.joblib', 'SCAN_AB-TRAP_CIC_XGB.joblib']\n",
      "DT's index of best performance: 5\n",
      "LR's index of best performance: 0\n",
      "MLP's index of best performance: 0\n",
      "NB's index of best performance: 0\n",
      "SVM's index of best performance: 0\n",
      "XGB's index of best performance: 0\n",
      "DT\n",
      "reading file: \n",
      "loading models from SCAN_NB15_CIC\n",
      "Models fetched: ['SCAN_NB15_CIC_DT.joblib', 'SCAN_NB15_CIC_LR.joblib', 'SCAN_NB15_CIC_MLP.joblib', 'SCAN_NB15_CIC_NB.joblib', 'SCAN_NB15_CIC_SVM.joblib', 'SCAN_NB15_CIC_XGB.joblib']\n",
      "DT's index of best performance: 10\n",
      "LR's index of best performance: 0\n",
      "MLP's index of best performance: 0\n",
      "NB's index of best performance: 0\n",
      "SVM's index of best performance: 0\n",
      "XGB's index of best performance: 0\n",
      "DT\n",
      "reading file: \n",
      "loading models from SCAN_CIC-IDS_CIC\n",
      "Models fetched: ['SCAN_CIC-IDS_CIC_DT.joblib', 'SCAN_CIC-IDS_CIC_LR.joblib', 'SCAN_CIC-IDS_CIC_MLP.joblib', 'SCAN_CIC-IDS_CIC_NB.joblib', 'SCAN_CIC-IDS_CIC_SVM.joblib', 'SCAN_CIC-IDS_CIC_XGB.joblib']\n",
      "DT's index of best performance: 4\n",
      "LR's index of best performance: 0\n",
      "MLP's index of best performance: 0\n",
      "NB's index of best performance: 0\n",
      "SVM's index of best performance: 0\n",
      "XGB's index of best performance: 0\n",
      "XGB\n",
      "reading file: \n",
      "loading models from SCAN_ToN-IoT_CIC\n",
      "Models fetched: ['SCAN_ToN-IoT_CIC_DT.joblib', 'SCAN_ToN-IoT_CIC_LR.joblib', 'SCAN_ToN-IoT_CIC_MLP.joblib', 'SCAN_ToN-IoT_CIC_NB.joblib', 'SCAN_ToN-IoT_CIC_SVM.joblib', 'SCAN_ToN-IoT_CIC_XGB.joblib']\n",
      "DT's index of best performance: 5\n",
      "LR's index of best performance: 0\n",
      "MLP's index of best performance: 0\n",
      "NB's index of best performance: 0\n",
      "SVM's index of best performance: 0\n",
      "XGB's index of best performance: 0\n",
      "XGB\n",
      "reading file: \n",
      "loading models from SCAN_BoT-IoT_CIC\n",
      "Models fetched: ['SCAN_BoT-IoT_CIC_DT.joblib', 'SCAN_BoT-IoT_CIC_LR.joblib', 'SCAN_BoT-IoT_CIC_MLP.joblib', 'SCAN_BoT-IoT_CIC_NB.joblib', 'SCAN_BoT-IoT_CIC_SVM.joblib', 'SCAN_BoT-IoT_CIC_XGB.joblib']\n",
      "DT's index of best performance: 5\n",
      "LR's index of best performance: 0\n",
      "MLP's index of best performance: 0\n",
      "NB's index of best performance: 0\n",
      "SVM's index of best performance: 0\n",
      "XGB's index of best performance: 0\n",
      "XGB\n",
      "reading file: \n"
     ]
    }
   ],
   "source": [
    "#Datasets available are :\n",
    "# {0: 'AB-TRAP', 1: 'NB15', 2: 'CIC-IDS', 3: 'ToN-IoT', 4: 'BoT-IoT'}\n",
    "tableCols = [\"Data Set\", \"DT\", \"LR\", \"MLP\", \"SVM\", \"XGB\"]\n",
    "tableInfo = []\n",
    "#for each Data Set\n",
    "for DS in range(5):\n",
    "    #get name\n",
    "    trainerDSName = getDSName(DS,1,True,True)\n",
    "    #load models\n",
    "    models, prep, table, algo = loadModel(trainerDSName)\n",
    "    #get feature list\n",
    "    cols = getFeatureList(DS)[0:-1]\n",
    "    #append line with list of top 10 important features\n",
    "    tableInfo.append(getLine(trainerDSName, models, cols)[tableCols])\n",
    "tableInfo = pd.concat(tableInfo, ignore_index=True)"
   ]
  },
  {
   "cell_type": "code",
   "execution_count": 8,
   "id": "e84073ae-deed-4f72-987d-e5e694eb00ba",
   "metadata": {
    "collapsed": true,
    "jupyter": {
     "outputs_hidden": true
    },
    "tags": []
   },
   "outputs": [
    {
     "name": "stdout",
     "output_type": "stream",
     "text": [
      "\\begin{table}[H]\n",
      "\\centering\n",
      "\\caption{\\textit{Features} ordenadas por importância para cada modelo e \\textit{Data Set}}\n",
      "\\label{tab:importFeat}\n",
      "\\begin{tabular}{cccccc}\n",
      "\\toprule\n",
      "                                                              Data Set &                     DT &                     LR &                     MLP &                    SVM &                     XGB \\\\\n",
      "\\midrule\n",
      "\\textbackslash multirow\\{10\\}\\{*\\}\\{\\textbackslash rotatebox\\{90\\}\\{\\textbackslash parbox\\{100pt\\}\\{\\textbackslash textbf\\{CIC-AB-TRAP\\}\\}\\}\\} &       (67\\%) bwd\\_pkts\\_s &     (9\\%) flow\\_duration &           (8\\%) dst\\_port &  (8\\%) subflow\\_bwd\\_byts &        (46\\%) bwd\\_pkts\\_s \\\\\n",
      "                                                                       &    (7\\%) bwd\\_header\\_len &  (6\\%) subflow\\_bwd\\_byts &        (7\\%) pkt\\_len\\_std &   (8\\%) totlen\\_bwd\\_pkts &       (18\\%) pkt\\_len\\_max \\\\\n",
      "                                                                       & (6\\%) init\\_fwd\\_win\\_byts &   (6\\%) totlen\\_bwd\\_pkts &       (6\\%) fin\\_flag\\_cnt &    (6\\%) bwd\\_header\\_len &    (10\\%) bwd\\_header\\_len \\\\\n",
      "                                                                       &     (5\\%) flow\\_duration &  (6\\%) subflow\\_bwd\\_pkts &  (5\\%) init\\_fwd\\_win\\_byts &      (3\\%) flow\\_iat\\_min &    (8\\%) totlen\\_bwd\\_pkts \\\\\n",
      "                                                                       &          (3\\%) dst\\_port &      (6\\%) tot\\_bwd\\_pkts &      (4\\%) flow\\_duration &     (2\\%) flow\\_duration &           (4\\%) protocol \\\\\n",
      "                                                                       &  (3\\%) fwd\\_seg\\_size\\_min &     (4\\%) down\\_up\\_ratio &    (4\\%) fwd\\_pkt\\_len\\_std &       (2\\%) flow\\_pkts\\_s &        (3\\%) pkt\\_len\\_std \\\\\n",
      "                                                                       &       (2\\%) pkt\\_len\\_var &    (4\\%) bwd\\_header\\_len &        (4\\%) pkt\\_len\\_min &        (2\\%) fwd\\_pkts\\_s &  (2\\%) init\\_fwd\\_win\\_byts \\\\\n",
      "                                                                       &   (2\\%) totlen\\_fwd\\_pkts &      (3\\%) flow\\_iat\\_max &       (3\\%) flow\\_iat\\_min &       (2\\%) pkt\\_len\\_min &       (1\\%) fin\\_flag\\_cnt \\\\\n",
      "                                                                       &   (1\\%) fwd\\_pkt\\_len\\_min &      (3\\%) flow\\_iat\\_std &       (3\\%) flow\\_iat\\_std &   (2\\%) fwd\\_pkt\\_len\\_max &    (1\\%) fwd\\_pkt\\_len\\_min \\\\\n",
      "                                                                       &  (1\\%) fwd\\_pkt\\_len\\_mean &      (2\\%) bwd\\_iat\\_mean &      (3\\%) flow\\_iat\\_mean &  (2\\%) bwd\\_pkt\\_len\\_mean &         (1\\%) fwd\\_pkts\\_s \\\\\n",
      "   \\textbackslash multirow\\{10\\}\\{*\\}\\{\\textbackslash rotatebox\\{90\\}\\{\\textbackslash parbox\\{100pt\\}\\{\\textbackslash textbf\\{CIC-NB15\\}\\}\\}\\} &     (88\\%) fin\\_flag\\_cnt &          (7\\%) dst\\_port &         (5\\%) active\\_std &       (3\\%) pkt\\_len\\_var &  (28\\%) bwd\\_pkt\\_len\\_mean \\\\\n",
      "                                                                       &          (9\\%) dst\\_port &   (6\\%) bwd\\_pkt\\_len\\_max &           (5\\%) idle\\_max &          (2\\%) dst\\_port &          (27\\%) dst\\_port \\\\\n",
      "                                                                       &      (3\\%) pkt\\_size\\_avg &       (5\\%) pkt\\_len\\_var &        (4\\%) fwd\\_iat\\_max &   (2\\%) bwd\\_pkt\\_len\\_max &  (22\\%) fwd\\_pkt\\_len\\_mean \\\\\n",
      "                                                                       &          (0\\%) idle\\_max &      (5\\%) fin\\_flag\\_cnt &       (4\\%) flow\\_iat\\_max &     (2\\%) flow\\_iat\\_mean &     (10\\%) flow\\_duration \\\\\n",
      "                                                                       &       (0\\%) bwd\\_iat\\_tot & (5\\%) fwd\\_act\\_data\\_pkts &    (4\\%) fwd\\_pkt\\_len\\_std &   (2\\%) bwd\\_pkt\\_len\\_std &        (6\\%) flow\\_byts\\_s \\\\\n",
      "                                                                       &       (0\\%) bwd\\_iat\\_max &   (5\\%) bwd\\_pkt\\_len\\_std &        (3\\%) fwd\\_iat\\_tot & (2\\%) fwd\\_act\\_data\\_pkts &    (2\\%) fwd\\_pkt\\_len\\_max \\\\\n",
      "                                                                       &       (0\\%) bwd\\_iat\\_min &     (4\\%) down\\_up\\_ratio &       (3\\%) fwd\\_iat\\_mean &  (2\\%) fwd\\_seg\\_size\\_avg &       (2\\%) fin\\_flag\\_cnt \\\\\n",
      "                                                                       &      (0\\%) bwd\\_iat\\_mean &     (4\\%) flow\\_iat\\_mean &    (3\\%) fwd\\_pkt\\_len\\_min &        (2\\%) active\\_max &       (1\\%) pkt\\_len\\_mean \\\\\n",
      "                                                                       &       (0\\%) bwd\\_iat\\_std &          (4\\%) idle\\_min &           (3\\%) dst\\_port &      (2\\%) fwd\\_iat\\_mean &        (1\\%) fwd\\_iat\\_max \\\\\n",
      "                                                                       &     (0\\%) down\\_up\\_ratio &          (3\\%) idle\\_std &      (3\\%) flow\\_iat\\_mean &  (2\\%) fwd\\_pkt\\_len\\_mean &        (0\\%) fwd\\_iat\\_tot \\\\\n",
      "\\textbackslash multirow\\{10\\}\\{*\\}\\{\\textbackslash rotatebox\\{90\\}\\{\\textbackslash parbox\\{100pt\\}\\{\\textbackslash textbf\\{CIC-CIC-IDS\\}\\}\\}\\} & (50\\%) subflow\\_fwd\\_byts &   (5\\%) fwd\\_pkt\\_len\\_max & (18\\%) fwd\\_act\\_data\\_pkts & (6\\%) fwd\\_act\\_data\\_pkts &   (50\\%) totlen\\_fwd\\_pkts \\\\\n",
      "                                                                       &      (45\\%) flow\\_byts\\_s &      (5\\%) flow\\_iat\\_min &      (14\\%) tot\\_fwd\\_pkts &  (5\\%) subflow\\_fwd\\_pkts &       (32\\%) flow\\_byts\\_s \\\\\n",
      "                                                                       &      (3\\%) psh\\_flag\\_cnt &   (4\\%) fwd\\_pkt\\_len\\_std &  (14\\%) subflow\\_fwd\\_pkts &      (5\\%) tot\\_fwd\\_pkts &      (11\\%) psh\\_flag\\_cnt \\\\\n",
      "                                                                       &    (0\\%) fwd\\_header\\_len &  (4\\%) fwd\\_seg\\_size\\_avg &      (11\\%) tot\\_bwd\\_pkts &      (4\\%) pkt\\_len\\_mean &       (1\\%) pkt\\_size\\_avg \\\\\n",
      "                                                                       &      (0\\%) pkt\\_len\\_mean &  (4\\%) fwd\\_pkt\\_len\\_mean &  (11\\%) subflow\\_bwd\\_pkts &      (4\\%) tot\\_bwd\\_pkts &        (1\\%) pkt\\_len\\_min \\\\\n",
      "                                                                       &        (0\\%) bwd\\_pkts\\_s &     (4\\%) flow\\_iat\\_mean &         (2\\%) fwd\\_pkts\\_s &  (4\\%) subflow\\_bwd\\_pkts &       (0\\%) fwd\\_iat\\_mean \\\\\n",
      "                                                                       &       (0\\%) fwd\\_iat\\_min &     (3\\%) flow\\_duration &       (1\\%) ack\\_flag\\_cnt &       (2\\%) pkt\\_len\\_max &    (0\\%) totlen\\_bwd\\_pkts \\\\\n",
      "                                                                       &   (0\\%) fwd\\_pkt\\_len\\_max &      (3\\%) pkt\\_size\\_avg &        (1\\%) flow\\_pkts\\_s &      (2\\%) pkt\\_size\\_avg &       (0\\%) tot\\_fwd\\_pkts \\\\\n",
      "                                                                       &   (0\\%) bwd\\_pkt\\_len\\_std &      (3\\%) flow\\_iat\\_max &        (1\\%) pkt\\_len\\_min &      (2\\%) flow\\_iat\\_max &         (0\\%) bwd\\_pkts\\_s \\\\\n",
      "                                                                       &       (0\\%) pkt\\_len\\_var &        (3\\%) fwd\\_pkts\\_s &           (1\\%) protocol &      (2\\%) flow\\_iat\\_min &        (0\\%) bwd\\_iat\\_min \\\\\n",
      "\\textbackslash multirow\\{10\\}\\{*\\}\\{\\textbackslash rotatebox\\{90\\}\\{\\textbackslash parbox\\{100pt\\}\\{\\textbackslash textbf\\{CIC-ToN-IoT\\}\\}\\}\\} &   (44\\%) fwd\\_header\\_len &         (24\\%) dst\\_port &        (6\\%) bwd\\_iat\\_min &    (3\\%) bwd\\_header\\_len &   (19\\%) bwd\\_pkt\\_len\\_min \\\\\n",
      "                                                                       &         (29\\%) dst\\_port &      (12\\%) pkt\\_len\\_min &       (5\\%) rst\\_flag\\_cnt &    (3\\%) fwd\\_header\\_len &          (15\\%) dst\\_port \\\\\n",
      "                                                                       &        (14\\%) idle\\_mean &    (4\\%) bwd\\_byts\\_b\\_avg &    (5\\%) bwd\\_pkt\\_len\\_max &      (3\\%) psh\\_flag\\_cnt & (14\\%) init\\_bwd\\_win\\_byts \\\\\n",
      "                                                                       &       (4\\%) bwd\\_iat\\_max &          (4\\%) protocol &        (4\\%) pkt\\_len\\_var &          (2\\%) dst\\_port &    (9\\%) bwd\\_pkt\\_len\\_std \\\\\n",
      "                                                                       &   (3\\%) fwd\\_pkt\\_len\\_max &   (4\\%) totlen\\_bwd\\_pkts &    (4\\%) bwd\\_pkt\\_len\\_std &      (2\\%) syn\\_flag\\_cnt &  (7\\%) init\\_fwd\\_win\\_byts \\\\\n",
      "                                                                       & (2\\%) init\\_fwd\\_win\\_byts &   (3\\%) totlen\\_fwd\\_pkts &           (3\\%) dst\\_port &   (2\\%) totlen\\_bwd\\_pkts &        (7\\%) bwd\\_iat\\_max \\\\\n",
      "                                                                       &       (1\\%) fwd\\_iat\\_max &      (3\\%) flow\\_iat\\_min &       (3\\%) psh\\_flag\\_cnt &      (2\\%) rst\\_flag\\_cnt &        (5\\%) bwd\\_iat\\_std \\\\\n",
      "                                                                       &          (1\\%) protocol &       (3\\%) pkt\\_len\\_var &  (3\\%) init\\_fwd\\_win\\_byts &     (2\\%) flow\\_iat\\_mean &         (4\\%) bwd\\_pkts\\_s \\\\\n",
      "                                                                       &  (0\\%) fwd\\_seg\\_size\\_min &       (3\\%) pkt\\_len\\_std &       (3\\%) syn\\_flag\\_cnt &     (2\\%) down\\_up\\_ratio &     (4\\%) fwd\\_header\\_len \\\\\n",
      "                                                                       &          (0\\%) idle\\_std &      (3\\%) pkt\\_size\\_avg &        (3\\%) pkt\\_len\\_max &      (2\\%) ack\\_flag\\_cnt &          (3\\%) idle\\_mean \\\\\n",
      "\\textbackslash multirow\\{10\\}\\{*\\}\\{\\textbackslash rotatebox\\{90\\}\\{\\textbackslash parbox\\{100pt\\}\\{\\textbackslash textbf\\{CIC-BoT-IoT\\}\\}\\}\\} &     (39\\%) syn\\_flag\\_cnt &       (8\\%) bwd\\_iat\\_tot &    (24\\%) bwd\\_header\\_len &      (9\\%) tot\\_bwd\\_pkts &          (69\\%) protocol \\\\\n",
      "                                                                       &         (17\\%) dst\\_port & (8\\%) init\\_bwd\\_win\\_byts &   (7\\%) subflow\\_bwd\\_pkts &  (9\\%) subflow\\_bwd\\_pkts &   (10\\%) fwd\\_pkt\\_len\\_min \\\\\n",
      "                                                                       &     (11\\%) flow\\_iat\\_min &    (5\\%) fwd\\_header\\_len &       (7\\%) tot\\_bwd\\_pkts &    (8\\%) bwd\\_header\\_len &  (3\\%) init\\_bwd\\_win\\_byts \\\\\n",
      "                                                                       &         (10\\%) protocol &      (5\\%) tot\\_fwd\\_pkts &     (4\\%) fwd\\_header\\_len & (8\\%) fwd\\_act\\_data\\_pkts &       (2\\%) syn\\_flag\\_cnt \\\\\n",
      "                                                                       &    (7\\%) bwd\\_header\\_len &  (5\\%) subflow\\_fwd\\_pkts &   (3\\%) subflow\\_fwd\\_pkts &    (5\\%) fwd\\_header\\_len &        (2\\%) pkt\\_len\\_max \\\\\n",
      "                                                                       & (4\\%) init\\_bwd\\_win\\_byts &     (4\\%) flow\\_duration &       (3\\%) tot\\_fwd\\_pkts &       (3\\%) fwd\\_iat\\_std &  (1\\%) fwd\\_act\\_data\\_pkts \\\\\n",
      "                                                                       &       (3\\%) fwd\\_iat\\_min & (4\\%) fwd\\_act\\_data\\_pkts &      (3\\%) down\\_up\\_ratio &      (3\\%) tot\\_fwd\\_pkts &    (1\\%) bwd\\_pkt\\_len\\_min \\\\\n",
      "                                                                       &  (3\\%) subflow\\_fwd\\_pkts &       (4\\%) bwd\\_iat\\_std &  (3\\%) init\\_bwd\\_win\\_byts &  (3\\%) subflow\\_fwd\\_pkts &     (1\\%) bwd\\_header\\_len \\\\\n",
      "                                                                       &        (2\\%) fwd\\_pkts\\_s &       (4\\%) fwd\\_iat\\_tot &    (3\\%) fwd\\_pkt\\_len\\_max &   (2\\%) totlen\\_fwd\\_pkts &       (1\\%) ack\\_flag\\_cnt \\\\\n",
      "                                                                       &      (1\\%) ack\\_flag\\_cnt &      (3\\%) flow\\_iat\\_max &       (2\\%) syn\\_flag\\_cnt &  (2\\%) subflow\\_fwd\\_byts &       (1\\%) fwd\\_iat\\_mean \\\\\n",
      "\\bottomrule\n",
      "\\end{tabular}\n",
      "\\end{table}\n",
      "\n"
     ]
    }
   ],
   "source": [
    "pd.set_option('display.max_colwidth', None)\n",
    "#table = pd.DataFrame(tableInfo)\n",
    "table = tableInfo\n",
    "mylabel = \"tab:importFeat\"\n",
    "mycaption = \"\\\\textit{Features} ordenadas por importância para cada modelo e \\\\textit{Data Set}\"\n",
    "tableName = \"top10importFeat\"\n",
    "table.fillna('', inplace=True)\n",
    "featFile = open(\"./dissertation/{0}.tex\".format(tableName),\"w\")\n",
    "featFile.write(table.to_latex(column_format='c'*table.columns.size, index=False, caption=mycaption, label=mylabel, position=\"H\"))\n",
    "featFile.close()\n",
    "\n",
    "print(table.to_latex(multirow=True, column_format='c'*table.columns.size, index=False, caption=mycaption, label=mylabel, position=\"H\"))"
   ]
  },
  {
   "cell_type": "code",
   "execution_count": 4,
   "id": "3fc3c1dc-338c-4d6d-b483-2fe2af805cc3",
   "metadata": {
    "collapsed": true,
    "jupyter": {
     "outputs_hidden": true
    },
    "tags": []
   },
   "outputs": [
    {
     "name": "stdout",
     "output_type": "stream",
     "text": [
      "\n",
      " 0\n",
      "    feature_importance     feature_name\n",
      "34                   4   bwd_header_len\n",
      "2                    4    flow_duration\n",
      "6                    3  totlen_bwd_pkts\n",
      "\n",
      " 10\n",
      "    feature_importance  feature_name\n",
      "0                    5      dst_port\n",
      "42                   3  fin_flag_cnt\n",
      "41                   2   pkt_len_var\n",
      "\n",
      " 20\n",
      "    feature_importance  feature_name\n",
      "3                    3  tot_fwd_pkts\n",
      "51                   3  pkt_size_avg\n",
      "36                   2    bwd_pkts_s\n",
      "\n",
      " 30\n",
      "    feature_importance    feature_name\n",
      "0                    5        dst_port\n",
      "33                   3  fwd_header_len\n",
      "45                   2    psh_flag_cnt\n",
      "\n",
      " 40\n",
      "    feature_importance       feature_name\n",
      "34                   4     bwd_header_len\n",
      "54                   4   subflow_fwd_pkts\n",
      "58                   4  init_bwd_win_byts\n"
     ]
    }
   ],
   "source": [
    "countForDS = []\n",
    "for i in range(0,tableInfo.shape[0], 10):\n",
    "    temp = list(np.reshape(tableInfo[tableCols[1:]][i:(i+10)].values,(1,50))[0])\n",
    "    relevantes = []\n",
    "    for col in cols:\n",
    "        relevantes.extend([temp.count(col)])\n",
    "    \n",
    "    fi_df = pd.DataFrame({'feature_importance': relevantes, 'feature_name': cols})\n",
    "    fi_df.sort_values(by=['feature_importance'], ascending=False, inplace=True)\n",
    "    print(\"\\n\",i)\n",
    "    print(fi_df[['feature_importance','feature_name']].head(3))\n",
    "    fi_df = fi_df[fi_df.feature_importance > 0]\n",
    "    countForDS.extend(fi_df['feature_name'])"
   ]
  },
  {
   "cell_type": "code",
   "execution_count": 5,
   "id": "759912b5-6d6a-4549-ae14-e2b862001b7c",
   "metadata": {
    "collapsed": true,
    "jupyter": {
     "outputs_hidden": true
    },
    "tags": []
   },
   "outputs": [
    {
     "name": "stdout",
     "output_type": "stream",
     "text": [
      "\n",
      "DT\n",
      "0 dst_port 5\n",
      "1 init_fwd_win_byts 3\n",
      "2 fwd_header_len 2\n",
      "\n",
      "LR\n",
      "0 flow_iat_max 3\n",
      "1 flow_duration 3\n",
      "2 totlen_bwd_pkts 2\n",
      "\n",
      "MLP\n",
      "0 dst_port 3\n",
      "1 pkt_len_min 2\n",
      "2 tot_fwd_pkts 2\n",
      "\n",
      "SVM\n",
      "0 bwd_header_len 3\n",
      "1 fwd_act_data_pkts 3\n",
      "2 totlen_bwd_pkts 2\n",
      "\n",
      "XGB\n",
      "0 bwd_pkts_s 3\n",
      "1 totlen_bwd_pkts 2\n",
      "2 fwd_iat_mean 2\n"
     ]
    }
   ],
   "source": [
    "countForModel = []\n",
    "q = 3\n",
    "for model in tableCols[1:]:\n",
    "    lero = tableInfo[model].value_counts()\n",
    "    print(\"\\n\"+model)\n",
    "    for i in range(q):\n",
    "        print(i, lero.index[i],lero[i])\n",
    "        if lero[i]>0:\n",
    "            countForModel.extend([lero.index[i]])"
   ]
  },
  {
   "cell_type": "code",
   "execution_count": null,
   "id": "20df4e38-c8af-4df7-a615-2ab761a5ccde",
   "metadata": {},
   "outputs": [],
   "source": []
  }
 ],
 "metadata": {
  "kernelspec": {
   "display_name": "Python 3",
   "language": "python",
   "name": "python3"
  },
  "language_info": {
   "codemirror_mode": {
    "name": "ipython",
    "version": 3
   },
   "file_extension": ".py",
   "mimetype": "text/x-python",
   "name": "python",
   "nbconvert_exporter": "python",
   "pygments_lexer": "ipython3",
   "version": "3.8.8"
  }
 },
 "nbformat": 4,
 "nbformat_minor": 5
}
