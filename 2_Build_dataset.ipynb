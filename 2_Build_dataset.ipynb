{
 "cells": [
  {
   "cell_type": "markdown",
   "id": "59071732-d169-4b98-83f1-c613928fa46e",
   "metadata": {},
   "source": [
    "# Build data set (parcial)\n",
    "\n",
    "### Final data sets are built in 3_train_model (before training model) or 4_test_model (if target yet incomplete)\n",
    "### Help below "
   ]
  },
  {
   "cell_type": "code",
   "execution_count": 43,
   "id": "65b936db-a001-4129-b9b2-92ece66217c2",
   "metadata": {},
   "outputs": [
    {
     "name": "stdout",
     "output_type": "stream",
     "text": [
      "Usage: supportFiles/featuresCIC.py <TYPE_LABEL> <PATH_TO_CSV> [OUTPUT_NAME]\n",
      "Types of labels are \n",
      "1 - Bonafide\n",
      "2 - Attack\n",
      "3 - NB15\n",
      "4 - CIC\n"
     ]
    }
   ],
   "source": [
    "%run supportFiles/featuresCIC.py"
   ]
  },
  {
   "cell_type": "markdown",
   "id": "166a253e-3456-43bf-bbe0-e523806866ad",
   "metadata": {},
   "source": [
    "### Examples"
   ]
  },
  {
   "cell_type": "markdown",
   "id": "3349fc5d-2f5f-4ee8-a593-229351e3b84e",
   "metadata": {},
   "source": [
    "### Running Bonafide complete set"
   ]
  },
  {
   "cell_type": "code",
   "execution_count": 2,
   "id": "9566d492-f73b-4bbd-8067-95ee26453e05",
   "metadata": {
    "collapsed": true,
    "jupyter": {
     "outputs_hidden": true
    },
    "tags": []
   },
   "outputs": [
    {
     "name": "stdout",
     "output_type": "stream",
     "text": [
      "running on file #output_00000_20201110020000filtered\n",
      "2021-12-14 23:21:40\n",
      "running on file #output_00001_20201110020009filtered\n",
      "2021-12-14 23:21:44\n",
      "running on file #output_00002_20201110020018filtered\n",
      "2021-12-14 23:21:48\n",
      "running on file #output_00003_20201110020027filtered\n",
      "2021-12-14 23:21:52\n",
      "running on file #output_00004_20201110020036filtered\n",
      "2021-12-14 23:21:57\n",
      "running on file #output_00005_20201110020045filtered\n",
      "2021-12-14 23:22:01\n",
      "running on file #output_00006_20201110020055filtered\n",
      "2021-12-14 23:22:05\n",
      "running on file #output_00007_20201110020104filtered\n",
      "2021-12-14 23:22:11\n",
      "running on file #output_00008_20201110020114filtered\n",
      "2021-12-14 23:22:15\n",
      "running on file #output_00009_20201110020123filtered\n",
      "2021-12-14 23:22:20\n",
      "running on file #output_00010_20201110020134filtered\n",
      "2021-12-14 23:22:26\n",
      "running on file #output_00011_20201110020144filtered\n",
      "2021-12-14 23:22:30\n",
      "running on file #output_00012_20201110020154filtered\n",
      "2021-12-14 23:22:35\n",
      "running on file #output_00013_20201110020204filtered\n",
      "2021-12-14 23:22:40\n",
      "running on file #output_00014_20201110020213filtered\n",
      "2021-12-14 23:22:44\n",
      "running on file #output_00015_20201110020222filtered\n",
      "2021-12-14 23:22:48\n",
      "running on file #output_00016_20201110020230filtered\n",
      "2021-12-14 23:22:52\n",
      "running on file #output_00017_20201110020238filtered\n",
      "2021-12-14 23:22:56\n",
      "running on file #output_00018_20201110020245filtered\n",
      "2021-12-14 23:23:00\n",
      "running on file #output_00019_20201110020254filtered\n",
      "2021-12-14 23:23:04\n",
      "running on file #output_00020_20201110020302filtered\n",
      "2021-12-14 23:23:08\n",
      "running on file #output_00021_20201110020310filtered\n",
      "2021-12-14 23:23:12\n",
      "running on file #output_00022_20201110020318filtered\n",
      "2021-12-14 23:23:16\n",
      "running on file #output_00023_20201110020326filtered\n",
      "2021-12-14 23:23:20\n",
      "running on file #output_00024_20201110020335filtered\n",
      "2021-12-14 23:23:24\n",
      "running on file #output_00025_20201110020344filtered\n",
      "2021-12-14 23:23:29\n",
      "running on file #output_00026_20201110020353filtered\n",
      "2021-12-14 23:23:33\n",
      "running on file #output_00027_20201110020403filtered\n",
      "2021-12-14 23:23:37\n",
      "running on file #output_00028_20201110020412filtered\n",
      "2021-12-14 23:23:41\n",
      "running on file #output_00029_20201110020421filtered\n",
      "2021-12-14 23:23:46\n",
      "running on file #output_00030_20201110020430filtered\n",
      "2021-12-14 23:23:50\n",
      "running on file #output_00031_20201110020439filtered\n",
      "2021-12-14 23:23:54\n",
      "running on file #output_00032_20201110020448filtered\n",
      "2021-12-14 23:23:58\n",
      "running on file #output_00033_20201110020457filtered\n",
      "2021-12-14 23:24:02\n",
      "running on file #output_00034_20201110020506filtered\n",
      "2021-12-14 23:24:06\n",
      "running on file #output_00035_20201110020515filtered\n",
      "2021-12-14 23:24:10\n",
      "running on file #output_00036_20201110020524filtered\n",
      "2021-12-14 23:24:14\n",
      "running on file #output_00037_20201110020534filtered\n",
      "2021-12-14 23:24:18\n",
      "running on file #output_00038_20201110020543filtered\n",
      "2021-12-14 23:24:22\n",
      "running on file #output_00039_20201110020553filtered\n",
      "2021-12-14 23:24:26\n",
      "running on file #output_00040_20201110020602filtered\n",
      "2021-12-14 23:24:30\n",
      "running on file #output_00041_20201110020611filtered\n",
      "2021-12-14 23:24:35\n",
      "running on file #output_00042_20201110020621filtered\n",
      "2021-12-14 23:24:40\n",
      "running on file #output_00043_20201110020632filtered\n",
      "2021-12-14 23:24:45\n",
      "running on file #output_00044_20201110020642filtered\n",
      "2021-12-14 23:24:50\n",
      "running on file #output_00045_20201110020652filtered\n",
      "2021-12-14 23:24:54\n",
      "running on file #output_00046_20201110020703filtered\n",
      "2021-12-14 23:24:59\n",
      "running on file #output_00047_20201110020714filtered\n",
      "2021-12-14 23:25:04\n",
      "running on file #output_00048_20201110020725filtered\n",
      "2021-12-14 23:25:08\n",
      "running on file #output_00049_20201110020736filtered\n",
      "2021-12-14 23:25:13\n",
      "running on file #output_00050_20201110020746filtered\n",
      "2021-12-14 23:25:18\n",
      "running on file #output_00051_20201110020756filtered\n",
      "2021-12-14 23:25:22\n",
      "running on file #output_00052_20201110020806filtered\n",
      "2021-12-14 23:25:27\n",
      "running on file #output_00053_20201110020817filtered\n",
      "2021-12-14 23:25:32\n",
      "running on file #output_00054_20201110020828filtered\n",
      "2021-12-14 23:25:37\n",
      "running on file #output_00055_20201110020838filtered\n",
      "2021-12-14 23:25:42\n",
      "running on file #output_00056_20201110020849filtered\n",
      "2021-12-14 23:25:47\n",
      "running on file #output_00057_20201110020859filtered\n",
      "2021-12-14 23:25:51\n",
      "running on file #output_00058_20201110020908filtered\n",
      "2021-12-14 23:25:55\n",
      "running on file #output_00059_20201110020917filtered\n",
      "2021-12-14 23:25:59\n",
      "running on file #output_00060_20201110020926filtered\n",
      "2021-12-14 23:26:03\n",
      "running on file #output_00061_20201110020935filtered\n",
      "2021-12-14 23:26:07\n",
      "running on file #output_00062_20201110020944filtered\n",
      "2021-12-14 23:26:11\n",
      "running on file #output_00063_20201110020953filtered\n",
      "2021-12-14 23:26:16\n",
      "running on file #output_00064_20201110021003filtered\n",
      "2021-12-14 23:26:21\n",
      "running on file #output_00065_20201110021013filtered\n",
      "2021-12-14 23:26:25\n",
      "running on file #output_00066_20201110021023filtered\n",
      "2021-12-14 23:26:30\n",
      "running on file #output_00067_20201110021034filtered\n",
      "2021-12-14 23:26:35\n",
      "running on file #output_00068_20201110021044filtered\n",
      "2021-12-14 23:26:40\n",
      "running on file #output_00069_20201110021054filtered\n",
      "2021-12-14 23:26:44\n",
      "running on file #output_00070_20201110021103filtered\n",
      "2021-12-14 23:26:49\n",
      "running on file #output_00071_20201110021111filtered\n",
      "2021-12-14 23:26:52\n",
      "running on file #output_00072_20201110021118filtered\n",
      "2021-12-14 23:26:56\n",
      "running on file #output_00073_20201110021126filtered\n",
      "2021-12-14 23:27:00\n",
      "running on file #output_00074_20201110021134filtered\n",
      "2021-12-14 23:27:03\n",
      "running on file #output_00075_20201110021143filtered\n",
      "2021-12-14 23:27:08\n",
      "running on file #output_00076_20201110021152filtered\n",
      "2021-12-14 23:27:12\n",
      "running on file #output_00077_20201110021201filtered\n",
      "2021-12-14 23:27:16\n",
      "running on file #output_00078_20201110021211filtered\n",
      "2021-12-14 23:27:21\n",
      "running on file #output_00079_20201110021220filtered\n",
      "2021-12-14 23:27:25\n",
      "running on file #output_00080_20201110021230filtered\n",
      "2021-12-14 23:27:29\n",
      "running on file #output_00081_20201110021239filtered\n",
      "2021-12-14 23:27:34\n",
      "running on file #output_00082_20201110021248filtered\n",
      "2021-12-14 23:27:37\n",
      "running on file #output_00083_20201110021257filtered\n",
      "2021-12-14 23:27:42\n",
      "running on file #output_00084_20201110021306filtered\n",
      "2021-12-14 23:27:46\n",
      "running on file #output_00085_20201110021315filtered\n",
      "2021-12-14 23:27:50\n",
      "running on file #output_00086_20201110021325filtered\n",
      "2021-12-14 23:27:54\n",
      "running on file #output_00087_20201110021335filtered\n",
      "2021-12-14 23:27:58\n",
      "running on file #output_00088_20201110021345filtered\n",
      "2021-12-14 23:28:03\n",
      "running on file #output_00089_20201110021354filtered\n",
      "2021-12-14 23:28:07\n",
      "running on file #output_00090_20201110021403filtered\n",
      "2021-12-14 23:28:12\n",
      "running on file #output_00091_20201110021412filtered\n",
      "2021-12-14 23:28:15\n",
      "running on file #output_00092_20201110021421filtered\n",
      "2021-12-14 23:28:20\n",
      "running on file #output_00093_20201110021429filtered\n",
      "2021-12-14 23:28:24\n",
      "running on file #output_00094_20201110021438filtered\n",
      "2021-12-14 23:28:28\n",
      "running on file #output_00095_20201110021448filtered\n",
      "2021-12-14 23:28:32\n",
      "running on file #output_00096_20201110021458filtered\n",
      "2021-12-14 23:28:37\n",
      "Done!\n"
     ]
    }
   ],
   "source": [
    "# run featuresCIC on all AB-TRAP(bonafide)/cic.csv\n",
    "import os\n",
    "import datetime\n",
    "\n",
    "ignore = ['_00001_', '_00002_']\n",
    "for folder in [x for x in os.listdir('./csv/') if ('output' in x and x not in ignore)]:\n",
    "    print(\"running on file #{0}\".format(folder))\n",
    "    print(datetime.datetime.now().strftime(\"%Y-%m-%d %H:%M:%S\"))\n",
    "    os.system('python ./supportFiles/featuresCIC.py 1 \\\"./csv/{0}/\\\"'.format(folder))\n",
    "print(\"Done!\")"
   ]
  },
  {
   "cell_type": "markdown",
   "id": "196c8d49-4d50-414e-bf69-33d5439d1167",
   "metadata": {},
   "source": [
    "### Running Attack"
   ]
  },
  {
   "cell_type": "code",
   "execution_count": 1,
   "id": "5ace3db6-b95a-4e36-9e93-d196eaeab796",
   "metadata": {},
   "outputs": [
    {
     "name": "stdout",
     "output_type": "stream",
     "text": [
      "loading cic.csv from ./csv/attack/\n",
      "calculating..\n",
      "labeling...\n",
      "saving..\n",
      "Done!\n"
     ]
    }
   ],
   "source": [
    "%run supportFiles/featuresCIC.py 2 \"./csv/attack/\""
   ]
  },
  {
   "cell_type": "markdown",
   "id": "f0faf34d-ea8d-4385-9b6c-2f1d5384d925",
   "metadata": {},
   "source": [
    "### Running UNBW-NB15 complete set"
   ]
  },
  {
   "cell_type": "code",
   "execution_count": 2,
   "id": "3e9d6ecb-9836-4664-a13e-3532602cd143",
   "metadata": {
    "collapsed": true,
    "jupyter": {
     "outputs_hidden": true
    },
    "tags": []
   },
   "outputs": [
    {
     "name": "stdout",
     "output_type": "stream",
     "text": [
      "running on file #1\n",
      "2021-12-14 23:13:39\n",
      "running on file #10\n",
      "2021-12-14 23:13:43\n",
      "running on file #11\n",
      "2021-12-14 23:13:46\n",
      "running on file #13\n",
      "2021-12-14 23:13:49\n",
      "running on file #14\n",
      "2021-12-14 23:13:52\n",
      "running on file #15\n",
      "2021-12-14 23:13:55\n",
      "running on file #16\n",
      "2021-12-14 23:13:58\n",
      "running on file #17\n",
      "2021-12-14 23:14:01\n",
      "running on file #18\n",
      "2021-12-14 23:14:04\n",
      "running on file #19\n",
      "2021-12-14 23:14:06\n",
      "running on file #2\n",
      "2021-12-14 23:14:09\n",
      "running on file #20\n",
      "2021-12-14 23:14:12\n",
      "running on file #21\n",
      "2021-12-14 23:14:15\n",
      "running on file #22\n",
      "2021-12-14 23:14:18\n",
      "running on file #23\n",
      "2021-12-14 23:14:21\n",
      "running on file #24\n",
      "2021-12-14 23:14:23\n",
      "running on file #25\n",
      "2021-12-14 23:14:26\n",
      "running on file #26\n",
      "2021-12-14 23:14:29\n",
      "running on file #27\n",
      "2021-12-14 23:14:32\n",
      "running on file #3\n",
      "2021-12-14 23:14:35\n",
      "running on file #4\n",
      "2021-12-14 23:14:38\n",
      "running on file #5\n",
      "2021-12-14 23:14:41\n",
      "running on file #6\n",
      "2021-12-14 23:14:44\n",
      "running on file #7\n",
      "2021-12-14 23:14:47\n",
      "running on file #8\n",
      "2021-12-14 23:14:50\n",
      "running on file #9\n",
      "2021-12-14 23:14:53\n",
      "Done!\n"
     ]
    }
   ],
   "source": [
    "# run featuresCIC on all UNBW-NB15/cic.csv\n",
    "import os\n",
    "import datetime\n",
    "\n",
    "ignore = []#['1', '2', '3', '4', '5', '6']\n",
    "for folder in [x for x in os.listdir('./csv/') if (x.isnumeric() and x not in ignore)]:\n",
    "    print(\"running on file #{0}\".format(folder))\n",
    "    print(datetime.datetime.now().strftime(\"%Y-%m-%d %H:%M:%S\"))\n",
    "    os.system('python ./supportFiles/featuresCIC.py 3 \\\"./csv/{0}/\\\"'.format(folder))\n",
    "print(\"Done!\")"
   ]
  },
  {
   "cell_type": "markdown",
   "id": "d27dd814-9ebc-452b-9411-4d50715ccb83",
   "metadata": {},
   "source": [
    "### Running Internet"
   ]
  },
  {
   "cell_type": "code",
   "execution_count": 2,
   "id": "b95efa0b-8bb6-4f50-ba15-53ce8e849ba3",
   "metadata": {},
   "outputs": [
    {
     "name": "stdout",
     "output_type": "stream",
     "text": [
      "loading cic.csv from ./csv/internet/\n",
      "calculating..\n",
      "labeling...\n",
      "saving..\n",
      "Done!\n"
     ]
    }
   ],
   "source": [
    "%run supportFiles/featuresCIC.py 5 \"./csv/internet/\""
   ]
  },
  {
   "cell_type": "code",
   "execution_count": null,
   "id": "159de8c9-8e7e-4ae2-9328-ddcd42a54b5a",
   "metadata": {},
   "outputs": [],
   "source": []
  }
 ],
 "metadata": {
  "kernelspec": {
   "display_name": "Python 3",
   "language": "python",
   "name": "python3"
  },
  "language_info": {
   "codemirror_mode": {
    "name": "ipython",
    "version": 3
   },
   "file_extension": ".py",
   "mimetype": "text/x-python",
   "name": "python",
   "nbconvert_exporter": "python",
   "pygments_lexer": "ipython3",
   "version": "3.8.8"
  }
 },
 "nbformat": 4,
 "nbformat_minor": 5
}
